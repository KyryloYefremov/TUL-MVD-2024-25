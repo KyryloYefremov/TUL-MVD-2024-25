{
 "cells": [
  {
   "cell_type": "markdown",
   "metadata": {},
   "source": [
    "# MVD 11. cvičení\n"
   ]
  },
  {
   "cell_type": "markdown",
   "metadata": {},
   "source": [
    "## 1. část - Collaborative Filtering (item-item)\n",
    "\n",
    "Vytvořte si matici podle příkladu v přednášce na item-item přístup na snímku 24. Využijte centered cosine similarity pro výpočet podobností stejně jako v přednášce a vyberte dva nejbližší sousedy. Ověřte, že je výsledek v přednášce správný a implementujte funkci tak, aby bylo možné jednoduše spočítat i libovolné další vyhodnocení. "
   ]
  },
  {
   "cell_type": "code",
   "execution_count": 21,
   "metadata": {},
   "outputs": [],
   "source": [
    "import numpy as np"
   ]
  },
  {
   "cell_type": "code",
   "execution_count": 22,
   "metadata": {},
   "outputs": [
    {
     "data": {
      "text/plain": [
       "array([[1., 0., 3., 0., 0., 5., 0., 0., 5., 0., 4., 0.],\n",
       "       [0., 0., 5., 4., 0., 0., 4., 0., 0., 2., 1., 3.],\n",
       "       [2., 4., 0., 1., 2., 0., 3., 0., 4., 3., 5., 0.],\n",
       "       [0., 2., 4., 0., 5., 0., 0., 4., 0., 0., 2., 0.],\n",
       "       [0., 0., 4., 3., 4., 2., 0., 0., 0., 0., 2., 5.],\n",
       "       [1., 0., 3., 0., 3., 0., 0., 2., 0., 0., 4., 0.]])"
      ]
     },
     "execution_count": 22,
     "metadata": {},
     "output_type": "execute_result"
    }
   ],
   "source": [
    "data_table = [\n",
    "    [1,    None, 3,    None, None, 5,    None, None, 5,    None, 4,  None],\n",
    "    [None, None, 5,    4,    None, None, 4,    None, None, 2,    1,  3,  ],\n",
    "    [2,    4,    None, 1,    2,    None, 3,    None, 4,    3,    5,  None],\n",
    "    [None, 2,    4,    None, 5,    None, None, 4,    None, None, 2,  None],\n",
    "    [None, None, 4,    3,    4,    2,    None, None, None, None, 2,  5   ],\n",
    "    [1,    None, 3,    None, 3,    None, None, 2,    None, None, 4,  None],\n",
    "]\n",
    "data_table = np.array(data_table)\n",
    "data_table[data_table == None] = 0\n",
    "data_table = data_table.astype(float)\n",
    "data_table"
   ]
  },
  {
   "cell_type": "code",
   "execution_count": 23,
   "metadata": {},
   "outputs": [],
   "source": [
    "cos_sim = lambda a, b: np.dot(a, b) / (np.linalg.norm(a) * np.linalg.norm(b))"
   ]
  },
  {
   "cell_type": "code",
   "execution_count": 24,
   "metadata": {},
   "outputs": [],
   "source": [
    "def normailize_matrix(matrix: np.ndarray) -> np.ndarray:\n",
    "    \"\"\"\n",
    "    normilize a matrix (mean of each row == 0) of data\n",
    "    :param data: input data\n",
    "    :return: centered matrix\n",
    "    \"\"\"\n",
    "    mean_matrix = np.sum(matrix, 1) / np.count_nonzero(matrix, 1)\n",
    "    result = matrix - mean_matrix.reshape(-1, 1)\n",
    "    result[np.where(matrix == 0)] = 0\n",
    "    return result"
   ]
  },
  {
   "cell_type": "code",
   "execution_count": null,
   "metadata": {},
   "outputs": [],
   "source": [
    "def collaborative_filtering(row: int, col: int, matrix: np.ndarray, n_neighboors=2) -> np.float64:\n",
    "    centered_matrix = normailize_matrix(matrix)\n",
    "\n",
    "    R, _ = matrix.shape  # get rows number\n",
    "\n",
    "    # calculate cosinus similarities for all row pairs\n",
    "    cos_sims = []\n",
    "    chosen_row = centered_matrix[row]\n",
    "    for r in range(R):\n",
    "        cos_sims.append(cos_sim(chosen_row, centered_matrix[r]))\n",
    "\n",
    "    # set similarities to -inf where in the matrix there is no value in chosen column and similarity row\n",
    "    similarities = [(idx, sim) for idx, sim in enumerate(cos_sims) if matrix[idx, col] != 0]\n",
    "\n",
    "    # find n neighboors with the highest similarity\n",
    "    similarities.sort(key=lambda x: x[1], reverse=True)\n",
    "    n_sims = similarities[:n_neighboors]\n",
    "    \n",
    "    # calculate predicted value based on n-similarities and values from chosen column on n-similarities rows\n",
    "    indeces, sims = zip(*n_sims)\n",
    "    sims = np.array(sims)\n",
    "    indeces = list(indeces)\n",
    "    predicted_row = np.sum(sims * matrix[indeces, col]) / sims.sum()\n",
    "\n",
    "    return predicted_row\n",
    "    \n"
   ]
  },
  {
   "cell_type": "code",
   "execution_count": 28,
   "metadata": {},
   "outputs": [
    {
     "data": {
      "text/plain": [
       "np.float64(2.586406866934817)"
      ]
     },
     "execution_count": 28,
     "metadata": {},
     "output_type": "execute_result"
    }
   ],
   "source": [
    "collaborative_filtering(row=0, col=4, matrix=data_table)"
   ]
  },
  {
   "cell_type": "markdown",
   "metadata": {},
   "source": [
    "## Bonus - Content-based Filtering\n",
    "\n",
    "Stáhněte si Kaggle dataset [Spotify Recommendation system](https://www.kaggle.com/bricevergnou/spotify-recommendation). Z datasetu budete potřebovat:\n",
    "\n",
    "- data.csv = příznaky k jednotlivým skladbám + příznak liked pro klasifikaci\n",
    "\n",
    "Úkolem je:\n",
    "\n",
    "1. Načíst data z csv.\n",
    "2. Vytvořit train (90 %) a test (10 %) split pomocí knihovny [sklearn](https://scikit-learn.org/stable/modules/generated/sklearn.model_selection.train_test_split.html).\n",
    "3. Vytvořit model logistické regrese (vlastní implementace / využití knihovny sklearn nebo jiné).\n",
    "4. Vyhodnotit data na testovací sadě (např. metoda score u LogisticRegression).\n",
    "\n",
    "**Skóre pro uznání úlohy musí být vyšší než 89 %.**\n",
    "\n",
    "Dobrovolné:\n",
    "- vytvořit graf predikovaných vs aktuálních hodnot\n",
    "- využít i jiný model"
   ]
  },
  {
   "cell_type": "code",
   "execution_count": 32,
   "metadata": {},
   "outputs": [],
   "source": [
    "import pandas as pd\n",
    "import numpy as np\n",
    "\n",
    "from sklearn.model_selection import train_test_split\n",
    "from sklearn.linear_model import LogisticRegression\n",
    "from sklearn.pipeline import make_pipeline\n",
    "from sklearn.preprocessing import StandardScaler, MinMaxScaler\n",
    "from sklearn.feature_selection import SelectKBest, f_classif\n",
    "\n",
    "from pprint import pprint"
   ]
  },
  {
   "cell_type": "code",
   "execution_count": 33,
   "metadata": {},
   "outputs": [
    {
     "data": {
      "text/html": [
       "<div>\n",
       "<style scoped>\n",
       "    .dataframe tbody tr th:only-of-type {\n",
       "        vertical-align: middle;\n",
       "    }\n",
       "\n",
       "    .dataframe tbody tr th {\n",
       "        vertical-align: top;\n",
       "    }\n",
       "\n",
       "    .dataframe thead th {\n",
       "        text-align: right;\n",
       "    }\n",
       "</style>\n",
       "<table border=\"1\" class=\"dataframe\">\n",
       "  <thead>\n",
       "    <tr style=\"text-align: right;\">\n",
       "      <th></th>\n",
       "      <th>danceability</th>\n",
       "      <th>energy</th>\n",
       "      <th>key</th>\n",
       "      <th>loudness</th>\n",
       "      <th>mode</th>\n",
       "      <th>speechiness</th>\n",
       "      <th>acousticness</th>\n",
       "      <th>instrumentalness</th>\n",
       "      <th>liveness</th>\n",
       "      <th>valence</th>\n",
       "      <th>tempo</th>\n",
       "      <th>duration_ms</th>\n",
       "      <th>time_signature</th>\n",
       "      <th>liked</th>\n",
       "    </tr>\n",
       "  </thead>\n",
       "  <tbody>\n",
       "    <tr>\n",
       "      <th>0</th>\n",
       "      <td>0.803</td>\n",
       "      <td>0.6240</td>\n",
       "      <td>7</td>\n",
       "      <td>-6.764</td>\n",
       "      <td>0</td>\n",
       "      <td>0.0477</td>\n",
       "      <td>0.451</td>\n",
       "      <td>0.000734</td>\n",
       "      <td>0.1000</td>\n",
       "      <td>0.6280</td>\n",
       "      <td>95.968</td>\n",
       "      <td>304524</td>\n",
       "      <td>4</td>\n",
       "      <td>0</td>\n",
       "    </tr>\n",
       "    <tr>\n",
       "      <th>1</th>\n",
       "      <td>0.762</td>\n",
       "      <td>0.7030</td>\n",
       "      <td>10</td>\n",
       "      <td>-7.951</td>\n",
       "      <td>0</td>\n",
       "      <td>0.3060</td>\n",
       "      <td>0.206</td>\n",
       "      <td>0.000000</td>\n",
       "      <td>0.0912</td>\n",
       "      <td>0.5190</td>\n",
       "      <td>151.329</td>\n",
       "      <td>247178</td>\n",
       "      <td>4</td>\n",
       "      <td>1</td>\n",
       "    </tr>\n",
       "    <tr>\n",
       "      <th>2</th>\n",
       "      <td>0.261</td>\n",
       "      <td>0.0149</td>\n",
       "      <td>1</td>\n",
       "      <td>-27.528</td>\n",
       "      <td>1</td>\n",
       "      <td>0.0419</td>\n",
       "      <td>0.992</td>\n",
       "      <td>0.897000</td>\n",
       "      <td>0.1020</td>\n",
       "      <td>0.0382</td>\n",
       "      <td>75.296</td>\n",
       "      <td>286987</td>\n",
       "      <td>4</td>\n",
       "      <td>0</td>\n",
       "    </tr>\n",
       "    <tr>\n",
       "      <th>3</th>\n",
       "      <td>0.722</td>\n",
       "      <td>0.7360</td>\n",
       "      <td>3</td>\n",
       "      <td>-6.994</td>\n",
       "      <td>0</td>\n",
       "      <td>0.0585</td>\n",
       "      <td>0.431</td>\n",
       "      <td>0.000001</td>\n",
       "      <td>0.1230</td>\n",
       "      <td>0.5820</td>\n",
       "      <td>89.860</td>\n",
       "      <td>208920</td>\n",
       "      <td>4</td>\n",
       "      <td>1</td>\n",
       "    </tr>\n",
       "    <tr>\n",
       "      <th>4</th>\n",
       "      <td>0.787</td>\n",
       "      <td>0.5720</td>\n",
       "      <td>1</td>\n",
       "      <td>-7.516</td>\n",
       "      <td>1</td>\n",
       "      <td>0.2220</td>\n",
       "      <td>0.145</td>\n",
       "      <td>0.000000</td>\n",
       "      <td>0.0753</td>\n",
       "      <td>0.6470</td>\n",
       "      <td>155.117</td>\n",
       "      <td>179413</td>\n",
       "      <td>4</td>\n",
       "      <td>1</td>\n",
       "    </tr>\n",
       "  </tbody>\n",
       "</table>\n",
       "</div>"
      ],
      "text/plain": [
       "   danceability  energy  key  loudness  mode  speechiness  acousticness  \\\n",
       "0         0.803  0.6240    7    -6.764     0       0.0477         0.451   \n",
       "1         0.762  0.7030   10    -7.951     0       0.3060         0.206   \n",
       "2         0.261  0.0149    1   -27.528     1       0.0419         0.992   \n",
       "3         0.722  0.7360    3    -6.994     0       0.0585         0.431   \n",
       "4         0.787  0.5720    1    -7.516     1       0.2220         0.145   \n",
       "\n",
       "   instrumentalness  liveness  valence    tempo  duration_ms  time_signature  \\\n",
       "0          0.000734    0.1000   0.6280   95.968       304524               4   \n",
       "1          0.000000    0.0912   0.5190  151.329       247178               4   \n",
       "2          0.897000    0.1020   0.0382   75.296       286987               4   \n",
       "3          0.000001    0.1230   0.5820   89.860       208920               4   \n",
       "4          0.000000    0.0753   0.6470  155.117       179413               4   \n",
       "\n",
       "   liked  \n",
       "0      0  \n",
       "1      1  \n",
       "2      0  \n",
       "3      1  \n",
       "4      1  "
      ]
     },
     "execution_count": 33,
     "metadata": {},
     "output_type": "execute_result"
    }
   ],
   "source": [
    "data_file = \"data.csv\"\n",
    "df = pd.read_csv(data_file)\n",
    "df.head()"
   ]
  },
  {
   "cell_type": "code",
   "execution_count": 34,
   "metadata": {},
   "outputs": [
    {
     "name": "stdout",
     "output_type": "stream",
     "text": [
      "DF: (195, 14)\n",
      "TEST: (20, 13), (20,)\n",
      "TRAIN: (175, 13), (175,)\n"
     ]
    }
   ],
   "source": [
    "features = df.drop(columns=['liked'])\n",
    "targets = df['liked']\n",
    "\n",
    "train_data, test_data, train_targets, test_targets = train_test_split(features, targets, random_state=42, test_size=0.1)\n",
    "print(f\"DF: {df.shape}\\nTEST: {test_data.shape}, {test_targets.shape}\\nTRAIN: {train_data.shape}, {train_targets.shape}\")"
   ]
  },
  {
   "cell_type": "code",
   "execution_count": 35,
   "metadata": {},
   "outputs": [
    {
     "name": "stdout",
     "output_type": "stream",
     "text": [
      "Best features:\n",
      "      danceability  loudness  speechiness  instrumentalness  valence    tempo  \\\n",
      "123         0.847    -2.901        0.305             0.000    0.633  142.012   \n",
      "144         0.130    -5.888        0.095             0.368    0.334   60.631   \n",
      "66          0.791    -9.805        0.420             0.000    0.492  130.027   \n",
      "45          0.373    -5.016        0.122             0.906    0.340   97.346   \n",
      "158         0.368   -36.759        0.035             0.922    0.085   69.363   \n",
      "\n",
      "     duration_ms  time_signature  \n",
      "123       190986               4  \n",
      "144       272995               4  \n",
      "66        170582               4  \n",
      "45        211947               4  \n",
      "158       254000               3  \n"
     ]
    }
   ],
   "source": [
    "# find best features (that have higher importance than the others) and select 'k' of them\n",
    "selector = SelectKBest(score_func=f_classif, k=8)\n",
    "best_train_data = selector.fit_transform(train_data, train_targets)\n",
    "\n",
    "selected_features = df.columns[selector.get_support(indices=True)]\n",
    "\n",
    "print(\"Best features:\\n\", train_data[selected_features].head())"
   ]
  },
  {
   "cell_type": "code",
   "execution_count": 36,
   "metadata": {},
   "outputs": [
    {
     "name": "stdout",
     "output_type": "stream",
     "text": [
      "Accurancy: 0.95\n"
     ]
    },
    {
     "name": "stderr",
     "output_type": "stream",
     "text": [
      "/Users/kirillefremov/development/PycharmProjects/TUL-MVD-2024-25/.venv/lib/python3.12/site-packages/sklearn/base.py:486: UserWarning: X has feature names, but MinMaxScaler was fitted without feature names\n",
      "  warnings.warn(\n"
     ]
    }
   ],
   "source": [
    "# learn model\n",
    "pipe = make_pipeline(MinMaxScaler(), LogisticRegression())\n",
    "pipe.fit(best_train_data, train_targets)\n",
    "\n",
    "# calc accurancy\n",
    "best_test_data = test_data[selected_features]\n",
    "acc = pipe.score(best_test_data, test_targets)\n",
    "print(f\"Accurancy: {acc}\")"
   ]
  }
 ],
 "metadata": {
  "kernelspec": {
   "display_name": ".venv",
   "language": "python",
   "name": "python3"
  },
  "language_info": {
   "codemirror_mode": {
    "name": "ipython",
    "version": 3
   },
   "file_extension": ".py",
   "mimetype": "text/x-python",
   "name": "python",
   "nbconvert_exporter": "python",
   "pygments_lexer": "ipython3",
   "version": "3.12.0"
  }
 },
 "nbformat": 4,
 "nbformat_minor": 4
}
