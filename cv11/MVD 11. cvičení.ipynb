{
 "cells": [
  {
   "cell_type": "markdown",
   "metadata": {},
   "source": [
    "# MVD 11. cvičení\n"
   ]
  },
  {
   "cell_type": "markdown",
   "metadata": {},
   "source": [
    "## 1. část - Collaborative Filtering (item-item)\n",
    "\n",
    "Vytvořte si matici podle příkladu v přednášce na item-item přístup na snímku 24. Využijte centered cosine similarity pro výpočet podobností stejně jako v přednášce a vyberte dva nejbližší sousedy. Ověřte, že je výsledek v přednášce správný a implementujte funkci tak, aby bylo možné jednoduše spočítat i libovolné další vyhodnocení. "
   ]
  },
  {
   "cell_type": "code",
   "execution_count": 21,
   "metadata": {},
   "outputs": [],
   "source": [
    "import numpy as np"
   ]
  },
  {
   "cell_type": "code",
   "execution_count": 22,
   "metadata": {},
   "outputs": [
    {
     "data": {
      "text/plain": [
       "array([[1., 0., 3., 0., 0., 5., 0., 0., 5., 0., 4., 0.],\n",
       "       [0., 0., 5., 4., 0., 0., 4., 0., 0., 2., 1., 3.],\n",
       "       [2., 4., 0., 1., 2., 0., 3., 0., 4., 3., 5., 0.],\n",
       "       [0., 2., 4., 0., 5., 0., 0., 4., 0., 0., 2., 0.],\n",
       "       [0., 0., 4., 3., 4., 2., 0., 0., 0., 0., 2., 5.],\n",
       "       [1., 0., 3., 0., 3., 0., 0., 2., 0., 0., 4., 0.]])"
      ]
     },
     "execution_count": 22,
     "metadata": {},
     "output_type": "execute_result"
    }
   ],
   "source": [
    "data_table = [\n",
    "    [1,    None, 3,    None, None, 5,    None, None, 5,    None, 4,  None],\n",
    "    [None, None, 5,    4,    None, None, 4,    None, None, 2,    1,  3,  ],\n",
    "    [2,    4,    None, 1,    2,    None, 3,    None, 4,    3,    5,  None],\n",
    "    [None, 2,    4,    None, 5,    None, None, 4,    None, None, 2,  None],\n",
    "    [None, None, 4,    3,    4,    2,    None, None, None, None, 2,  5   ],\n",
    "    [1,    None, 3,    None, 3,    None, None, 2,    None, None, 4,  None],\n",
    "]\n",
    "data_table = np.array(data_table)\n",
    "data_table[data_table == None] = 0\n",
    "data_table = data_table.astype(float)\n",
    "data_table"
   ]
  },
  {
   "cell_type": "code",
   "execution_count": 23,
   "metadata": {},
   "outputs": [],
   "source": [
    "cos_sim = lambda a, b: np.dot(a, b) / (np.linalg.norm(a) * np.linalg.norm(b))"
   ]
  },
  {
   "cell_type": "code",
   "execution_count": 24,
   "metadata": {},
   "outputs": [],
   "source": [
    "def normailize_matrix(matrix: np.ndarray) -> np.ndarray:\n",
    "    \"\"\"\n",
    "    normilize a matrix (mean of each row == 0) of data\n",
    "    :param data: input data\n",
    "    :return: centered matrix\n",
    "    \"\"\"\n",
    "    mean_matrix = np.sum(matrix, 1) / np.count_nonzero(matrix, 1)\n",
    "    result = matrix - mean_matrix.reshape(-1, 1)\n",
    "    result[np.where(matrix == 0)] = 0\n",
    "    return result"
   ]
  },
  {
   "cell_type": "code",
   "execution_count": null,
   "metadata": {},
   "outputs": [],
   "source": [
    "def collaborative_filtering(row: int, col: int, matrix: np.ndarray, n_neighboors=2) -> np.float64:\n",
    "    centered_matrix = normailize_matrix(matrix)\n",
    "\n",
    "    R, _ = matrix.shape  # get rows number\n",
    "\n",
    "    # calculate cosinus similarities for all row pairs\n",
    "    cos_sims = []\n",
    "    chosen_row = centered_matrix[row]\n",
    "    for r in range(R):\n",
    "        cos_sims.append(cos_sim(chosen_row, centered_matrix[r]))\n",
    "\n",
    "    # set similarities to -inf where in the matrix there is no value in chosen column and similarity row\n",
    "    similarities = [(idx, sim) for idx, sim in enumerate(cos_sims) if matrix[idx, col] != 0]\n",
    "\n",
    "    # find n neighboors with the highest similarity\n",
    "    similarities.sort(key=lambda x: x[1], reverse=True)\n",
    "    n_sims = similarities[:n_neighboors]\n",
    "    \n",
    "    # calculate predicted value based on n-similarities and values from chosen column on n-similarities rows\n",
    "    indeces, sims = zip(*n_sims)\n",
    "    sims = np.array(sims)\n",
    "    indeces = list(indeces)\n",
    "    predicted_row = np.sum(sims * matrix[indeces, col]) / sims.sum()\n",
    "\n",
    "    return predicted_row\n",
    "    \n"
   ]
  },
  {
   "cell_type": "code",
   "execution_count": 28,
   "metadata": {},
   "outputs": [
    {
     "data": {
      "text/plain": [
       "np.float64(2.586406866934817)"
      ]
     },
     "execution_count": 28,
     "metadata": {},
     "output_type": "execute_result"
    }
   ],
   "source": [
    "collaborative_filtering(row=0, col=4, matrix=data_table)"
   ]
  },
  {
   "cell_type": "markdown",
   "metadata": {},
   "source": [
    "## Bonus - Content-based Filtering\n",
    "\n",
    "Stáhněte si Kaggle dataset [Spotify Recommendation system](https://www.kaggle.com/bricevergnou/spotify-recommendation). Z datasetu budete potřebovat:\n",
    "\n",
    "- data.csv = příznaky k jednotlivým skladbám + příznak liked pro klasifikaci\n",
    "\n",
    "Úkolem je:\n",
    "\n",
    "1. Načíst data z csv.\n",
    "2. Vytvořit train (90 %) a test (10 %) split pomocí knihovny [sklearn](https://scikit-learn.org/stable/modules/generated/sklearn.model_selection.train_test_split.html).\n",
    "3. Vytvořit model logistické regrese (vlastní implementace / využití knihovny sklearn nebo jiné).\n",
    "4. Vyhodnotit data na testovací sadě (např. metoda score u LogisticRegression).\n",
    "\n",
    "**Skóre pro uznání úlohy musí být vyšší než 89 %.**\n",
    "\n",
    "Dobrovolné:\n",
    "- vytvořit graf predikovaných vs aktuálních hodnot\n",
    "- využít i jiný model"
   ]
  },
  {
   "cell_type": "code",
   "execution_count": null,
   "metadata": {},
   "outputs": [],
   "source": [
    "    "
   ]
  }
 ],
 "metadata": {
  "kernelspec": {
   "display_name": ".venv",
   "language": "python",
   "name": "python3"
  },
  "language_info": {
   "codemirror_mode": {
    "name": "ipython",
    "version": 3
   },
   "file_extension": ".py",
   "mimetype": "text/x-python",
   "name": "python",
   "nbconvert_exporter": "python",
   "pygments_lexer": "ipython3",
   "version": "3.12.0"
  }
 },
 "nbformat": 4,
 "nbformat_minor": 4
}
