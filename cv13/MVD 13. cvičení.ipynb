{
 "cells": [
  {
   "cell_type": "markdown",
   "metadata": {},
   "source": [
    "# MVD 13. cvičení\n",
    "V dnešním cvičení se bude implementovat apriori a FP-Growth algoritmus pro nalezení častých vzorů.\n",
    "\n",
    "### Úkol 1: Generování náhodných transakcí\n",
    "1. Vytvořte Pandas DataFrame obsahující náhodné transakce.\n",
    "    - Položky např.: ['mléko', 'chléb', 'máslo', 'vejce', 'sýr', 'pivo', 'víno', 'chipsy', 'ovoce', 'zelenina', ...]\n",
    "    - Počet transakcí: Náhodně zvolte číslo mezi 50 až 100.\n",
    "    - Počet položek v transakci: Každá transakce by měla obsahovat 2 až 6 náhodných položek.\n",
    "\n",
    "2. Zobrazte prvních 5 transakcí DataFrame."
   ]
  },
  {
   "cell_type": "code",
   "execution_count": 1,
   "metadata": {},
   "outputs": [],
   "source": [
    "import pandas as pd\n",
    "import numpy as np"
   ]
  },
  {
   "cell_type": "code",
   "execution_count": 18,
   "metadata": {},
   "outputs": [],
   "source": [
    "def generate_df(trans_min: int = 50, trans_max: int = 101, trans_len_min: int = 2, trans_len_max: int = 6) -> pd.DataFrame:\n",
    "    items = ['mléko', 'chléb', 'máslo', 'vejce', 'sýr', 'pivo', 'víno', 'chipsy', 'ovoce', 'zelenina',]\n",
    "    transactions_number = np.random.randint(trans_min, trans_max)  # generate random num from the interval\n",
    "    items_per_transaction = np.random.random_integers(trans_len_min, trans_len_max, transactions_number)  # generate `transactions_number` times random int from interval\n",
    "\n",
    "    # lambda function to randolmly choose `n` elements from list\n",
    "    rand_get = lambda item_list, item_num: np.random.choice(item_list, size=item_num, replace=False)\n",
    "    data: list[np.array,] = [rand_get(items, item_num) for item_num in items_per_transaction]\n",
    "\n",
    "    # create df\n",
    "    df = pd.DataFrame({'transaction': data})\n",
    "    df.index.name = 'id_trans'\n",
    "    return df"
   ]
  },
  {
   "cell_type": "code",
   "execution_count": 19,
   "metadata": {},
   "outputs": [
    {
     "name": "stderr",
     "output_type": "stream",
     "text": [
      "/var/folders/51/0prm0g2x0y13rpfcls9fpv180000gn/T/ipykernel_45410/240828542.py:4: DeprecationWarning: This function is deprecated. Please call randint(2, 6 + 1) instead\n",
      "  items_per_transaction = np.random.random_integers(trans_len_min, trans_len_max, transactions_number)  # generate `transactions_number` times random int from interval\n"
     ]
    },
    {
     "data": {
      "text/html": [
       "<div>\n",
       "<style scoped>\n",
       "    .dataframe tbody tr th:only-of-type {\n",
       "        vertical-align: middle;\n",
       "    }\n",
       "\n",
       "    .dataframe tbody tr th {\n",
       "        vertical-align: top;\n",
       "    }\n",
       "\n",
       "    .dataframe thead th {\n",
       "        text-align: right;\n",
       "    }\n",
       "</style>\n",
       "<table border=\"1\" class=\"dataframe\">\n",
       "  <thead>\n",
       "    <tr style=\"text-align: right;\">\n",
       "      <th></th>\n",
       "      <th>transaction</th>\n",
       "    </tr>\n",
       "    <tr>\n",
       "      <th>id_trans</th>\n",
       "      <th></th>\n",
       "    </tr>\n",
       "  </thead>\n",
       "  <tbody>\n",
       "    <tr>\n",
       "      <th>0</th>\n",
       "      <td>[chipsy, vejce, víno, zelenina, sýr]</td>\n",
       "    </tr>\n",
       "    <tr>\n",
       "      <th>1</th>\n",
       "      <td>[chléb, mléko, sýr, chipsy, vejce, pivo]</td>\n",
       "    </tr>\n",
       "    <tr>\n",
       "      <th>2</th>\n",
       "      <td>[máslo, pivo, ovoce]</td>\n",
       "    </tr>\n",
       "    <tr>\n",
       "      <th>3</th>\n",
       "      <td>[vejce, chléb, chipsy, zelenina]</td>\n",
       "    </tr>\n",
       "    <tr>\n",
       "      <th>4</th>\n",
       "      <td>[víno, chléb]</td>\n",
       "    </tr>\n",
       "  </tbody>\n",
       "</table>\n",
       "</div>"
      ],
      "text/plain": [
       "                                       transaction\n",
       "id_trans                                          \n",
       "0             [chipsy, vejce, víno, zelenina, sýr]\n",
       "1         [chléb, mléko, sýr, chipsy, vejce, pivo]\n",
       "2                             [máslo, pivo, ovoce]\n",
       "3                 [vejce, chléb, chipsy, zelenina]\n",
       "4                                    [víno, chléb]"
      ]
     },
     "execution_count": 19,
     "metadata": {},
     "output_type": "execute_result"
    }
   ],
   "source": [
    "df = generate_df()\n",
    "df.head()"
   ]
  },
  {
   "cell_type": "markdown",
   "metadata": {},
   "source": [
    "### Úkol 2: Implementace Apriori algoritmu\n",
    "1. Napište funkci `apriori`, která:\n",
    "    - Přijme DataFrame obsahující transakce.\n",
    "    - Najde časté vzory (itemsety) na základě minimálního supportu (např. minsup = 0.5).\n",
    "    - Vrátí seznam častých vzorů a jejich support hodnoty.\n",
    "\n",
    "2. Otestujte funkci na vygenerovaných transakcích."
   ]
  },
  {
   "cell_type": "code",
   "execution_count": 20,
   "metadata": {},
   "outputs": [],
   "source": [
    "from itertools import combinations as itercomb"
   ]
  },
  {
   "cell_type": "code",
   "execution_count": 21,
   "metadata": {},
   "outputs": [],
   "source": [
    "def apriori(df: pd.DataFrame, minsup: int = 2) -> list[str]:\n",
    "    \"\"\"\n",
    "    Apriori algorithm.\n",
    "    Find frequent itemsets (sets of items that appear together frequently in a dataset.\n",
    "\n",
    "    Args:\n",
    "        df: pandas.DataFrame with column `transaction` that contains a list of items (strings).\n",
    "        minsup: - number of `support` of itemset to be considered as \"frequent\".\n",
    "\n",
    "    Returns:\n",
    "        all_itemsets: - list of itemsets that are considered as \"frequent\".\n",
    "    \"\"\"\n",
    "    itemset_len = 1\n",
    "    transactions_number = df.transaction.size\n",
    "    no_more_candidates = False\n",
    "    all_itemsets = []\n",
    "\n",
    "    candidates_sets = []\n",
    "    candidates_counts = []\n",
    "\n",
    "    while not no_more_candidates:\n",
    "        for transaction in df.transaction:\n",
    "            # get all item combinations from transaction with `itemset_len` length of itemset\n",
    "            combinations = itercomb(transaction, itemset_len)\n",
    "\n",
    "            # per itemset:\n",
    "            for itemset in combinations:\n",
    "                sorted_itemset = sorted(itemset)\n",
    "\n",
    "                # if `sorted_itemset` already exists, increase count by 1\n",
    "                if sorted_itemset in candidates_sets:\n",
    "                    idx = candidates_sets.index(sorted_itemset)\n",
    "                    candidates_counts[idx] += 1\n",
    "                # else add it and set `count` to 1\n",
    "                else:\n",
    "                    candidates_sets.append(sorted_itemset)\n",
    "                    candidates_counts.append(1)\n",
    "\n",
    "        # if there is no candidates with current `itemset_len` => return current global list of itemsets (exit)\n",
    "        if len(candidates_sets) == 0:\n",
    "            no_more_candidates = True\n",
    "\n",
    "        # select only itemsets with `support` value >= minimum support value\n",
    "        for idx, count in enumerate(candidates_counts):\n",
    "            support = count / transactions_number\n",
    "            if support >= minsup:\n",
    "                all_itemsets.append((candidates_sets[idx], round(support, 2)))\n",
    "        \n",
    "        # empty all structures, increase itemset_len\n",
    "        itemset_len += 1\n",
    "        candidates_sets = []\n",
    "        candidates_counts = []\n",
    "\n",
    "    return all_itemsets\n"
   ]
  },
  {
   "cell_type": "code",
   "execution_count": 22,
   "metadata": {},
   "outputs": [
    {
     "name": "stdout",
     "output_type": "stream",
     "text": [
      "RESULTS for minsup=0.2:\n",
      " --------------------\n",
      "S=0.46    vejce\n",
      "S=0.45    chipsy\n",
      "S=0.45    víno\n",
      "S=0.44    zelenina\n",
      "S=0.44    chléb\n",
      "S=0.42    sýr\n",
      "S=0.39    pivo\n",
      "S=0.37    mléko\n",
      "S=0.34    ovoce\n",
      "S=0.32    máslo\n",
      "S=0.25    vejce, víno\n",
      "S=0.24    chipsy, vejce\n",
      "S=0.23    sýr, zelenina\n",
      "S=0.21    vejce, zelenina\n"
     ]
    }
   ],
   "source": [
    "minsup = 0.2\n",
    "result = apriori(df, minsup)\n",
    "\n",
    "print(f\"RESULTS for minsup={minsup}:\\n\", '-' * 20)\n",
    "for itemset, support in sorted(result, key=lambda x: x[1], reverse=True):\n",
    "    print(f\"S={support}    {', '.join(itemset)}\")"
   ]
  },
  {
   "cell_type": "markdown",
   "metadata": {},
   "source": [
    "### Úkol 3: Implementace FP-Growth algoritmu\n",
    " 1. Použijte knihovnu mlxtend k použití FP-Growth algoritmu.\n",
    " 2. Převádějte DataFrame na vhodný formát pomocí TransactionEncoder.\n",
    " 3. Najděte časté vzory s minimálním supportem (např. minsup = 0.5)."
   ]
  },
  {
   "cell_type": "code",
   "execution_count": 23,
   "metadata": {},
   "outputs": [],
   "source": [
    "import pandas as pd\n",
    "from mlxtend.preprocessing import TransactionEncoder\n",
    "from mlxtend.frequent_patterns import fpgrowth"
   ]
  },
  {
   "cell_type": "code",
   "execution_count": 24,
   "metadata": {},
   "outputs": [],
   "source": [
    "def fp_growth(df: pd.DataFrame, minsup: float = 0.5):\n",
    "    \"\"\"\n",
    "    \"\"\"\n",
    "    result = fpgrowth(df, min_support=minsup, use_colnames=True)\n",
    "    return result\n"
   ]
  },
  {
   "cell_type": "code",
   "execution_count": 26,
   "metadata": {},
   "outputs": [],
   "source": [
    "def tranform_df(df: pd.DataFrame) -> pd.DataFrame:\n",
    "    # change dataframe structure to fit the algorithm\n",
    "    te = TransactionEncoder()\n",
    "    dataset = df.transaction.values\n",
    "    te_ary = te.fit(dataset).transform(dataset)\n",
    "    te_df = pd.DataFrame(te_ary, columns=te.columns_)\n",
    "    return te_df"
   ]
  },
  {
   "cell_type": "code",
   "execution_count": 27,
   "metadata": {},
   "outputs": [
    {
     "data": {
      "text/html": [
       "<div>\n",
       "<style scoped>\n",
       "    .dataframe tbody tr th:only-of-type {\n",
       "        vertical-align: middle;\n",
       "    }\n",
       "\n",
       "    .dataframe tbody tr th {\n",
       "        vertical-align: top;\n",
       "    }\n",
       "\n",
       "    .dataframe thead th {\n",
       "        text-align: right;\n",
       "    }\n",
       "</style>\n",
       "<table border=\"1\" class=\"dataframe\">\n",
       "  <thead>\n",
       "    <tr style=\"text-align: right;\">\n",
       "      <th></th>\n",
       "      <th>chipsy</th>\n",
       "      <th>chléb</th>\n",
       "      <th>mléko</th>\n",
       "      <th>máslo</th>\n",
       "      <th>ovoce</th>\n",
       "      <th>pivo</th>\n",
       "      <th>sýr</th>\n",
       "      <th>vejce</th>\n",
       "      <th>víno</th>\n",
       "      <th>zelenina</th>\n",
       "    </tr>\n",
       "  </thead>\n",
       "  <tbody>\n",
       "    <tr>\n",
       "      <th>0</th>\n",
       "      <td>True</td>\n",
       "      <td>False</td>\n",
       "      <td>False</td>\n",
       "      <td>False</td>\n",
       "      <td>False</td>\n",
       "      <td>False</td>\n",
       "      <td>True</td>\n",
       "      <td>True</td>\n",
       "      <td>True</td>\n",
       "      <td>True</td>\n",
       "    </tr>\n",
       "    <tr>\n",
       "      <th>1</th>\n",
       "      <td>True</td>\n",
       "      <td>True</td>\n",
       "      <td>True</td>\n",
       "      <td>False</td>\n",
       "      <td>False</td>\n",
       "      <td>True</td>\n",
       "      <td>True</td>\n",
       "      <td>True</td>\n",
       "      <td>False</td>\n",
       "      <td>False</td>\n",
       "    </tr>\n",
       "    <tr>\n",
       "      <th>2</th>\n",
       "      <td>False</td>\n",
       "      <td>False</td>\n",
       "      <td>False</td>\n",
       "      <td>True</td>\n",
       "      <td>True</td>\n",
       "      <td>True</td>\n",
       "      <td>False</td>\n",
       "      <td>False</td>\n",
       "      <td>False</td>\n",
       "      <td>False</td>\n",
       "    </tr>\n",
       "    <tr>\n",
       "      <th>3</th>\n",
       "      <td>True</td>\n",
       "      <td>True</td>\n",
       "      <td>False</td>\n",
       "      <td>False</td>\n",
       "      <td>False</td>\n",
       "      <td>False</td>\n",
       "      <td>False</td>\n",
       "      <td>True</td>\n",
       "      <td>False</td>\n",
       "      <td>True</td>\n",
       "    </tr>\n",
       "    <tr>\n",
       "      <th>4</th>\n",
       "      <td>False</td>\n",
       "      <td>True</td>\n",
       "      <td>False</td>\n",
       "      <td>False</td>\n",
       "      <td>False</td>\n",
       "      <td>False</td>\n",
       "      <td>False</td>\n",
       "      <td>False</td>\n",
       "      <td>True</td>\n",
       "      <td>False</td>\n",
       "    </tr>\n",
       "  </tbody>\n",
       "</table>\n",
       "</div>"
      ],
      "text/plain": [
       "   chipsy  chléb  mléko  máslo  ovoce   pivo    sýr  vejce   víno  zelenina\n",
       "0    True  False  False  False  False  False   True   True   True      True\n",
       "1    True   True   True  False  False   True   True   True  False     False\n",
       "2   False  False  False   True   True   True  False  False  False     False\n",
       "3    True   True  False  False  False  False  False   True  False      True\n",
       "4   False   True  False  False  False  False  False  False   True     False"
      ]
     },
     "execution_count": 27,
     "metadata": {},
     "output_type": "execute_result"
    }
   ],
   "source": [
    "te_df = tranform_df(df)\n",
    "te_df.head()"
   ]
  },
  {
   "cell_type": "code",
   "execution_count": 28,
   "metadata": {},
   "outputs": [
    {
     "data": {
      "text/html": [
       "<div>\n",
       "<style scoped>\n",
       "    .dataframe tbody tr th:only-of-type {\n",
       "        vertical-align: middle;\n",
       "    }\n",
       "\n",
       "    .dataframe tbody tr th {\n",
       "        vertical-align: top;\n",
       "    }\n",
       "\n",
       "    .dataframe thead th {\n",
       "        text-align: right;\n",
       "    }\n",
       "</style>\n",
       "<table border=\"1\" class=\"dataframe\">\n",
       "  <thead>\n",
       "    <tr style=\"text-align: right;\">\n",
       "      <th></th>\n",
       "      <th>support</th>\n",
       "      <th>itemsets</th>\n",
       "    </tr>\n",
       "  </thead>\n",
       "  <tbody>\n",
       "    <tr>\n",
       "      <th>0</th>\n",
       "      <td>0.46</td>\n",
       "      <td>(vejce)</td>\n",
       "    </tr>\n",
       "    <tr>\n",
       "      <th>1</th>\n",
       "      <td>0.45</td>\n",
       "      <td>(víno)</td>\n",
       "    </tr>\n",
       "    <tr>\n",
       "      <th>2</th>\n",
       "      <td>0.45</td>\n",
       "      <td>(chipsy)</td>\n",
       "    </tr>\n",
       "    <tr>\n",
       "      <th>3</th>\n",
       "      <td>0.44</td>\n",
       "      <td>(zelenina)</td>\n",
       "    </tr>\n",
       "    <tr>\n",
       "      <th>4</th>\n",
       "      <td>0.42</td>\n",
       "      <td>(sýr)</td>\n",
       "    </tr>\n",
       "    <tr>\n",
       "      <th>5</th>\n",
       "      <td>0.44</td>\n",
       "      <td>(chléb)</td>\n",
       "    </tr>\n",
       "    <tr>\n",
       "      <th>6</th>\n",
       "      <td>0.39</td>\n",
       "      <td>(pivo)</td>\n",
       "    </tr>\n",
       "    <tr>\n",
       "      <th>7</th>\n",
       "      <td>0.37</td>\n",
       "      <td>(mléko)</td>\n",
       "    </tr>\n",
       "    <tr>\n",
       "      <th>8</th>\n",
       "      <td>0.34</td>\n",
       "      <td>(ovoce)</td>\n",
       "    </tr>\n",
       "    <tr>\n",
       "      <th>9</th>\n",
       "      <td>0.32</td>\n",
       "      <td>(máslo)</td>\n",
       "    </tr>\n",
       "    <tr>\n",
       "      <th>10</th>\n",
       "      <td>0.25</td>\n",
       "      <td>(víno, vejce)</td>\n",
       "    </tr>\n",
       "    <tr>\n",
       "      <th>11</th>\n",
       "      <td>0.24</td>\n",
       "      <td>(vejce, chipsy)</td>\n",
       "    </tr>\n",
       "    <tr>\n",
       "      <th>12</th>\n",
       "      <td>0.21</td>\n",
       "      <td>(zelenina, vejce)</td>\n",
       "    </tr>\n",
       "    <tr>\n",
       "      <th>13</th>\n",
       "      <td>0.23</td>\n",
       "      <td>(zelenina, sýr)</td>\n",
       "    </tr>\n",
       "  </tbody>\n",
       "</table>\n",
       "</div>"
      ],
      "text/plain": [
       "    support           itemsets\n",
       "0      0.46            (vejce)\n",
       "1      0.45             (víno)\n",
       "2      0.45           (chipsy)\n",
       "3      0.44         (zelenina)\n",
       "4      0.42              (sýr)\n",
       "5      0.44            (chléb)\n",
       "6      0.39             (pivo)\n",
       "7      0.37            (mléko)\n",
       "8      0.34            (ovoce)\n",
       "9      0.32            (máslo)\n",
       "10     0.25      (víno, vejce)\n",
       "11     0.24    (vejce, chipsy)\n",
       "12     0.21  (zelenina, vejce)\n",
       "13     0.23    (zelenina, sýr)"
      ]
     },
     "execution_count": 28,
     "metadata": {},
     "output_type": "execute_result"
    }
   ],
   "source": [
    "result_df = fp_growth(te_df, 0.2)\n",
    "result_df['support'] = result_df['support'].round(2)\n",
    "result_df"
   ]
  },
  {
   "cell_type": "markdown",
   "metadata": {},
   "source": [
    "### Úkol 4: Porovnání Apriori a FP-Growth\n",
    "1. Porovnejte výsledky obou algoritmů:\n",
    "    - Počet nalezených vzorů.\n",
    "    - Výpočetní čas (měřte pomocí time, zkuste i zvýšit počet transakcí)."
   ]
  },
  {
   "cell_type": "code",
   "execution_count": 29,
   "metadata": {},
   "outputs": [],
   "source": [
    "import time"
   ]
  },
  {
   "cell_type": "code",
   "execution_count": 30,
   "metadata": {},
   "outputs": [
    {
     "name": "stderr",
     "output_type": "stream",
     "text": [
      "/var/folders/51/0prm0g2x0y13rpfcls9fpv180000gn/T/ipykernel_45410/240828542.py:4: DeprecationWarning: This function is deprecated. Please call randint(2, 10 + 1) instead\n",
      "  items_per_transaction = np.random.random_integers(trans_len_min, trans_len_max, transactions_number)  # generate `transactions_number` times random int from interval\n"
     ]
    }
   ],
   "source": [
    "# generate dfs\n",
    "df_apriori = generate_df(trans_min=10000, trans_max=20000, trans_len_min=2, trans_len_max=10)\n",
    "df_fpgrowth = tranform_df(df_apriori)"
   ]
  },
  {
   "cell_type": "code",
   "execution_count": 31,
   "metadata": {},
   "outputs": [],
   "source": [
    "min_sup = 0.4"
   ]
  },
  {
   "cell_type": "code",
   "execution_count": 34,
   "metadata": {},
   "outputs": [],
   "source": [
    "# test Apriori algorithm\n",
    "start_time_apriori = time.time()\n",
    "result_apriori = apriori(df_apriori, minsup=min_sup)\n",
    "time_apriori = time.time() - start_time_apriori"
   ]
  },
  {
   "cell_type": "code",
   "execution_count": 33,
   "metadata": {},
   "outputs": [],
   "source": [
    "# test FPGrowth algorithm\n",
    "start_time_fpgrowth = time.time()\n",
    "result_fpgrowth = fp_growth(df_fpgrowth, minsup=min_sup)\n",
    "time_fpgrowth = time.time() - start_time_fpgrowth"
   ]
  },
  {
   "cell_type": "code",
   "execution_count": 38,
   "metadata": {},
   "outputs": [
    {
     "name": "stdout",
     "output_type": "stream",
     "text": [
      "---FPGrowth---\n",
      "results number: 110\n",
      "time: 1.2562 sec\n",
      "---Apriori---\n",
      "results number: 55\n",
      "time: 19.6204 sec\n"
     ]
    }
   ],
   "source": [
    "# Compare results of two algorithms\n",
    "print(f\"---FPGrowth---\\nresults number: {result_fpgrowth.size}\")\n",
    "print(f\"time: {time_fpgrowth:.4f} sec\")\n",
    "\n",
    "print(f\"---Apriori---\\nresults number: {len(result_apriori)}\")\n",
    "print(f\"time: {time_apriori:.4f} sec\")"
   ]
  },
  {
   "cell_type": "code",
   "execution_count": null,
   "metadata": {},
   "outputs": [],
   "source": []
  }
 ],
 "metadata": {
  "kernelspec": {
   "display_name": ".venv",
   "language": "python",
   "name": "python3"
  },
  "language_info": {
   "codemirror_mode": {
    "name": "ipython",
    "version": 3
   },
   "file_extension": ".py",
   "mimetype": "text/x-python",
   "name": "python",
   "nbconvert_exporter": "python",
   "pygments_lexer": "ipython3",
   "version": "3.12.0"
  }
 },
 "nbformat": 4,
 "nbformat_minor": 4
}
